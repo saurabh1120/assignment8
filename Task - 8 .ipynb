{
 "cells": [
  {
   "cell_type": "markdown",
   "metadata": {},
   "source": [
    "# Task 8"
   ]
  },
  {
   "cell_type": "markdown",
   "metadata": {},
   "source": [
    "# Registration no -SIRSS1263"
   ]
  },
  {
   "cell_type": "markdown",
   "metadata": {},
   "source": [
    "# Name Saurabvh Sinha"
   ]
  },
  {
   "cell_type": "markdown",
   "metadata": {},
   "source": [
    "## Q1). A left rotation operation on an array shifts each of the array's elements unit to the left.\n",
    "## For example, if left rotations are performed on array ,\n",
    "## then the array would become . Note that the lowest index item moves to the highest index\n",
    "## in a rotation. This is called a circular array.\n",
    "## Given an array of integers and a number, , perform left rotations on the array.\n",
    "## Return the updated array to be printed as a single line of space-separated integers.\n",
    "\n",
    "## Function Description\n",
    "## rotLeft has the following parameter(s):\n",
    "## • int a[n]: the array to rotate\n",
    "## • int d: the number of rotations\n",
    "## Returns\n",
    "## • int a'[n]: the rotated array\n",
    "## Input Format\n",
    "## The first line contains two space-separated integers and , the size of and the number of\n",
    "## left rotations.\n",
    "## The second line contains space-separated integers, each an .\n",
    "## Sample Input\n",
    "## 5 4\n",
    "## 1 2 3 4 5\n",
    "## Sample Output\n",
    "## 5 1 2 3 4"
   ]
  },
  {
   "cell_type": "code",
   "execution_count": 27,
   "metadata": {},
   "outputs": [
    {
     "name": "stdout",
     "output_type": "stream",
     "text": [
      "\n",
      " Enter the elements of array : 2 5 6 8 7 9\n",
      "\n",
      "\n",
      "Original array:\n",
      "2 5 6 8 7 9 \n",
      "\n",
      "\n",
      "Array after left rotation:\n",
      "9 2 5 6 8 7 "
     ]
    }
   ],
   "source": [
    "def RLeft(a,n):\n",
    "    d=a[n-1]\n",
    "\n",
    "    for i in range(n-1,0,-1):\n",
    "        a[i] = a[i-1];\n",
    "    a[0] = d\n",
    "\n",
    "a = list(map(int,input(\"\\n Enter the elements of array : \").strip().split()))\n",
    "n=len(a)\n",
    "print(\"\\n\")\n",
    "print(\"Original array:\")\n",
    "for i in range(0,n):\n",
    "    print(a[i],end=\" \")\n",
    "RLeft(a,n)\n",
    "print(\"\\n\")\n",
    "print(\"\\nArray after left rotation:\")\n",
    "for i in range(0,n):\n",
    "    print(a[i], end=\" \")"
   ]
  },
  {
   "cell_type": "markdown",
   "metadata": {},
   "source": [
    "## Q2). An array contains both positive and negative numbers in random order.\n",
    "## Rearrange the array elements so that all negative numbers appear before all positive\n",
    "## numbers.\n",
    "\n",
    "## Examples :\n",
    "\n",
    "## Input: -12, 11, -13, -5, 6, -7, 5, -3, -6\n",
    "## Output: -12 -13 -5 -7 -3 -6 11 6 5\n",
    "## Note: Order of elements is not important here."
   ]
  },
  {
   "cell_type": "code",
   "execution_count": 28,
   "metadata": {},
   "outputs": [
    {
     "name": "stdout",
     "output_type": "stream",
     "text": [
      "your input is : \n",
      "\n",
      "  [-12, 11, -13, -5, 6, -7, 5, -3, -6]\n",
      "your Output :\n",
      " \n",
      "[-12, -13, -5, -7, -3, -6, 5, 6, 11]\n"
     ]
    }
   ],
   "source": [
    "def RArray(arr, n):\n",
    "\n",
    "    j=0\n",
    "    for i in range(0,n):\n",
    "        if(arr[i]<0):\n",
    "            arr[i],arr[j]=arr[j],arr[i]\n",
    "            j=j+1\n",
    "    print(arr)\n",
    "    \n",
    "arr=[-12,11,-13,-5,6,-7,5,-3,-6]\n",
    "n=len(arr)\n",
    "print(\"your input is : \\n\\n \",arr)\n",
    "print(\"your Output :\\n \")\n",
    "RArray(arr, n)"
   ]
  },
  {
   "cell_type": "markdown",
   "metadata": {},
   "source": [
    "## Q3). Given an array of positive and negative numbers,\n",
    "## arrange them in an alternate fashion such that\n",
    "## every positive number is followed by negative and vice-versa.\n",
    "## Order of elements in output doesn’t matter.\n",
    "## Extra positive or negative elements should be moved to end.\n",
    "\n",
    "## Examples:\n",
    "\n",
    "## Input :\n",
    "## arr[] = {-2, 3, 4, -1}\n",
    "## Output :\n",
    "## arr[] = {-2, 3, -1, 4} OR {-1, 3, -2, 4} OR ..\n",
    "\n",
    "## Input :\n",
    "## arr[] = {-2, 3, 1}\n",
    "## Output :\n",
    "##     arr[] = {-2, 3, 1} OR {-2, 1, 3}\n",
    "\n",
    "## Input :\n",
    "## arr[] = {-5, 3, 4, 5, -6, -2, 8, 9, -1, -4}\n",
    "## Output :\n",
    "## arr[] = {-5, 3, -2, 5, -6, 4, -4, 9, -1, 8}"
   ]
  },
  {
   "cell_type": "code",
   "execution_count": 29,
   "metadata": {},
   "outputs": [
    {
     "name": "stdout",
     "output_type": "stream",
     "text": [
      "[-2, 3, 4, -1]\n",
      "-2,3,-1,4,"
     ]
    }
   ],
   "source": [
    "def AltArray(arr, n):\n",
    "\n",
    "    arr.sort()\n",
    "    i, j = 1, 1\n",
    "    while j < n:\n",
    "        if arr[j] > 0:\n",
    "            break\n",
    "        j += 1\n",
    "\n",
    "    while (arr[i] < 0) and (j < n):\n",
    "\n",
    "        arr[i], arr[j] = arr[j], arr[i]\n",
    "        i += 2\n",
    "        j += 1\n",
    "\n",
    "    return (arr)\n",
    "arr=[-2, 3, 4, -1]\n",
    "print(arr)\n",
    "n=len(arr)\n",
    "\n",
    "a= AltArray(arr, n)\n",
    "for num in a:\n",
    "    \n",
    "    print(num, end=\",\")"
   ]
  },
  {
   "cell_type": "markdown",
   "metadata": {},
   "source": [
    "## Q4). The Caesar cipher is a type of substitution cipher in which each alphabet in the\n",
    "## plaintext or messages is shifted by a number of places down the alphabet.\n",
    "## For example, with a shift of 1, P would be replaced by Q, Q would become R, and so on.\n",
    "\n",
    "## To pass an encrypted message from one person to another, it is first necessary that both\n",
    "## parties have the ‘Key’ for the cipher so that the sender may encrypt and the receiver may\n",
    "## decrypt it.\n",
    "## Key is the number of offsets to shift the cipher alphabet. Key can have basic shifts from 1 to\n",
    "## 25 positions as there are 26 total alphabets.\n",
    "\n",
    "## As we are designing custom Caesar Cipher, in addition to alphabets, we are considering\n",
    "## numeric digits from 0 to 9. Digits can also be shifted by key places.\n",
    "## For Example, if a given plain text contains any digit with values 5 and key =2, then 5 will be\n",
    "## replaced by 7, “-”(minus sign) will remain as it is. Key-value less than 0 should result in\n",
    "## “INVALID INPUT”\n",
    "\n",
    "## Input 1:\n",
    "## Enter your PlainText: All the best\n",
    "## Enter the Key: 1\n",
    "##     Expected Output : The encrypted Text is: Bmm uif Cftu\n",
    "\n",
    "## Explanation\n",
    "\n",
    "## The function Caesar(int key, String message) will accept plaintext and key as input\n",
    "## parameters and returns its ciphertext as output."
   ]
  },
  {
   "cell_type": "code",
   "execution_count": 30,
   "metadata": {},
   "outputs": [
    {
     "name": "stdout",
     "output_type": "stream",
     "text": [
      "your message is hello Regex\n",
      "your key is 2\n",
      "Message after encryption:  jgnnq Tgigz\n"
     ]
    }
   ],
   "source": [
    "def ceaser(string, shift):\n",
    "    cipher = ''\n",
    "    for char in string:\n",
    "        if char == ' ':\n",
    "            cipher = cipher + char\n",
    "        elif char.isupper():\n",
    "            cipher = cipher + chr((ord(char) + shift - 65) % 26 + 65)\n",
    "        else:\n",
    "            cipher = cipher + chr((ord(char) + shift - 97) % 26 + 97)\n",
    "\n",
    "    return cipher\n",
    "msg = \"hello Regex\"\n",
    "key = 2\n",
    "print(\"your message is\",msg)\n",
    "print(\"your key is\",key)\n",
    "print(\"Message after encryption: \", ceaser(msg, key))"
   ]
  },
  {
   "cell_type": "code",
   "execution_count": null,
   "metadata": {},
   "outputs": [],
   "source": [
    "thankyou!!"
   ]
  }
 ],
 "metadata": {
  "kernelspec": {
   "display_name": "Python 3",
   "language": "python",
   "name": "python3"
  },
  "language_info": {
   "codemirror_mode": {
    "name": "ipython",
    "version": 3
   },
   "file_extension": ".py",
   "mimetype": "text/x-python",
   "name": "python",
   "nbconvert_exporter": "python",
   "pygments_lexer": "ipython3",
   "version": "3.8.5"
  }
 },
 "nbformat": 4,
 "nbformat_minor": 5
}
